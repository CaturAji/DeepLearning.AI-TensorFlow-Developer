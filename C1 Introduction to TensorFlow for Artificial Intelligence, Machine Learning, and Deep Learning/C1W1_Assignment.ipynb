{
 "cells": [
  {
   "cell_type": "markdown",
   "metadata": {
    "id": "mw2VBrBcgvGa"
   },
   "source": [
    "# Week 1 Assignment: Housing Prices\n",
    "\n",
    "In this exercise you'll try to build a neural network that predicts the price of a house according to a simple formula.\n",
    "\n",
    "Imagine that house pricing is as easy as:\n",
    "\n",
    "A house has a base cost of 50k, and every additional bedroom adds a cost of 50k. This will make a 1 bedroom house cost 100k, a 2 bedroom house cost 150k etc.\n",
    "\n",
    "How would you create a neural network that learns this relationship so that it would predict a 7 bedroom house as costing close to 400k etc.\n",
    "\n",
    "Hint: Your network might work better if you scale the house price down. You don't have to give the answer 400...it might be better to create something that predicts the number 4, and then your answer is in the 'hundreds of thousands' etc."
   ]
  },
  {
   "cell_type": "code",
   "execution_count": 1,
   "metadata": {
    "deletable": false,
    "editable": false
   },
   "outputs": [
    {
     "name": "stdout",
     "output_type": "stream",
     "text": [
      "\u001b[32mGrader metadata detected! You can proceed with the lab!\u001b[0m\r\n"
     ]
    }
   ],
   "source": [
    "# IMPORTANT: This will check your notebook's metadata for grading.\n",
    "# Please do not continue the lab unless the output of this cell tells you to proceed. \n",
    "!python add_metadata.py --filename C1W1_Assignment.ipynb"
   ]
  },
  {
   "cell_type": "markdown",
   "metadata": {},
   "source": [
    "_**NOTE:** To prevent errors from the autograder, you are not allowed to edit or delete non-graded cells in this notebook . Please only put your solutions in between the `### START CODE HERE` and `### END CODE HERE` code comments, and also refrain from adding any new cells. **Once you have passed this assignment** and want to experiment with any of the non-graded code, you may follow the instructions at the bottom of this notebook._"
   ]
  },
  {
   "cell_type": "code",
   "execution_count": 2,
   "metadata": {
    "deletable": false,
    "editable": false,
    "id": "PUNO2E6SeURH",
    "tags": [
     "graded"
    ]
   },
   "outputs": [],
   "source": [
    "# grader-required-cell\n",
    "\n",
    "import tensorflow as tf\n",
    "import numpy as np"
   ]
  },
  {
   "cell_type": "code",
   "execution_count": 6,
   "metadata": {},
   "outputs": [],
   "source": [
    "from tensorflow import keras"
   ]
  },
  {
   "cell_type": "code",
   "execution_count": 9,
   "metadata": {
    "deletable": false,
    "id": "B-74xrKrBqGJ",
    "tags": [
     "graded"
    ]
   },
   "outputs": [],
   "source": [
    "# grader-required-cell\n",
    "\n",
    "# GRADED FUNCTION: house_model\n",
    "def house_model():\n",
    "    ### START CODE HERE\n",
    "    \n",
    "    # Define input and output tensors with the values for houses with 1 up to 6 bedrooms\n",
    "    # Hint: Remember to explictly set the dtype as float\n",
    "    xs = np.array([1.0, 2.0, 3.0, 4.0, 5.0, 6.0], dtype=float)\n",
    "    ys = np.array([1.0, 1.5, 2.0, 2.5, 3.0, 3.5], dtype=float)\n",
    "    \n",
    "    # Define your model (should be a model with 1 dense layer and 1 unit)\n",
    "    # Note: you can use `tf.keras` instead of `keras`\n",
    "    model = tf.keras.Sequential([keras.layers.Dense(units=1,input_shape=[1])])\n",
    "    \n",
    "    # Compile your model\n",
    "    # Set the optimizer to Stochastic Gradient Descent\n",
    "    # and use Mean Squared Error as the loss function\n",
    "    model.compile(optimizer='sgd', loss='mean_squared_error')\n",
    "    \n",
    "    # Train your model for 1000 epochs by feeding the i/o tensors\n",
    "    model.fit(xs, ys, epochs=1000)\n",
    "    \n",
    "    ### END CODE HERE\n",
    "    return model"
   ]
  },
  {
   "cell_type": "markdown",
   "metadata": {},
   "source": [
    "Now that you have a function that returns a compiled and trained model when invoked, use it to get the model to predict the price of houses: "
   ]
  },
  {
   "cell_type": "code",
   "execution_count": null,
   "metadata": {
    "deletable": false,
    "editable": false,
    "tags": [
     "graded"
    ]
   },
   "outputs": [
    {
     "name": "stdout",
     "output_type": "stream",
     "text": [
      "Epoch 1/1000\n",
      "1/1 [==============================] - 0s 232ms/step - loss: 61.2037\n",
      "Epoch 2/1000\n",
      "1/1 [==============================] - 0s 2ms/step - loss: 28.3272\n",
      "Epoch 3/1000\n",
      "1/1 [==============================] - 0s 2ms/step - loss: 13.1110\n",
      "Epoch 4/1000\n",
      "1/1 [==============================] - 0s 2ms/step - loss: 6.0685\n",
      "Epoch 5/1000\n",
      "1/1 [==============================] - 0s 2ms/step - loss: 2.8090\n",
      "Epoch 6/1000\n",
      "1/1 [==============================] - 0s 1ms/step - loss: 1.3004\n",
      "Epoch 7/1000\n",
      "1/1 [==============================] - 0s 2ms/step - loss: 0.6021\n",
      "Epoch 8/1000\n",
      "1/1 [==============================] - 0s 2ms/step - loss: 0.2790\n",
      "Epoch 9/1000\n",
      "1/1 [==============================] - 0s 2ms/step - loss: 0.1294\n",
      "Epoch 10/1000\n",
      "1/1 [==============================] - 0s 2ms/step - loss: 0.0602\n",
      "Epoch 11/1000\n",
      "1/1 [==============================] - 0s 2ms/step - loss: 0.0281\n",
      "Epoch 12/1000\n",
      "1/1 [==============================] - 0s 2ms/step - loss: 0.0133\n",
      "Epoch 13/1000\n",
      "1/1 [==============================] - 0s 2ms/step - loss: 0.0064\n",
      "Epoch 14/1000\n",
      "1/1 [==============================] - 0s 2ms/step - loss: 0.0033\n",
      "Epoch 15/1000\n",
      "1/1 [==============================] - 0s 2ms/step - loss: 0.0018\n",
      "Epoch 16/1000\n",
      "1/1 [==============================] - 0s 2ms/step - loss: 0.0011\n",
      "Epoch 17/1000\n",
      "1/1 [==============================] - 0s 2ms/step - loss: 7.8762e-04\n",
      "Epoch 18/1000\n",
      "1/1 [==============================] - 0s 2ms/step - loss: 6.3810e-04\n",
      "Epoch 19/1000\n",
      "1/1 [==============================] - 0s 2ms/step - loss: 5.6690e-04\n",
      "Epoch 20/1000\n",
      "1/1 [==============================] - 0s 2ms/step - loss: 5.3197e-04\n",
      "Epoch 21/1000\n",
      "1/1 [==============================] - 0s 2ms/step - loss: 5.1384e-04\n",
      "Epoch 22/1000\n",
      "1/1 [==============================] - 0s 2ms/step - loss: 5.0350e-04\n",
      "Epoch 23/1000\n",
      "1/1 [==============================] - 0s 2ms/step - loss: 4.9678e-04\n",
      "Epoch 24/1000\n",
      "1/1 [==============================] - 0s 2ms/step - loss: 4.9175e-04\n",
      "Epoch 25/1000\n",
      "1/1 [==============================] - 0s 2ms/step - loss: 4.8751e-04\n",
      "Epoch 26/1000\n",
      "1/1 [==============================] - 0s 2ms/step - loss: 4.8365e-04\n",
      "Epoch 27/1000\n",
      "1/1 [==============================] - 0s 2ms/step - loss: 4.7999e-04\n",
      "Epoch 28/1000\n",
      "1/1 [==============================] - 0s 2ms/step - loss: 4.7643e-04\n",
      "Epoch 29/1000\n",
      "1/1 [==============================] - 0s 2ms/step - loss: 4.7293e-04\n",
      "Epoch 30/1000\n",
      "1/1 [==============================] - 0s 2ms/step - loss: 4.6947e-04\n",
      "Epoch 31/1000\n",
      "1/1 [==============================] - 0s 2ms/step - loss: 4.6604e-04\n",
      "Epoch 32/1000\n",
      "1/1 [==============================] - 0s 2ms/step - loss: 4.6264e-04\n",
      "Epoch 33/1000\n",
      "1/1 [==============================] - 0s 2ms/step - loss: 4.5927e-04\n",
      "Epoch 34/1000\n",
      "1/1 [==============================] - 0s 2ms/step - loss: 4.5593e-04\n",
      "Epoch 35/1000\n",
      "1/1 [==============================] - 0s 2ms/step - loss: 4.5260e-04\n",
      "Epoch 36/1000\n",
      "1/1 [==============================] - 0s 2ms/step - loss: 4.4931e-04\n",
      "Epoch 37/1000\n",
      "1/1 [==============================] - 0s 2ms/step - loss: 4.4603e-04\n",
      "Epoch 38/1000\n",
      "1/1 [==============================] - 0s 1ms/step - loss: 4.4278e-04\n",
      "Epoch 39/1000\n",
      "1/1 [==============================] - 0s 2ms/step - loss: 4.3956e-04\n",
      "Epoch 40/1000\n",
      "1/1 [==============================] - 0s 2ms/step - loss: 4.3635e-04\n",
      "Epoch 41/1000\n",
      "1/1 [==============================] - 0s 2ms/step - loss: 4.3317e-04\n",
      "Epoch 42/1000\n",
      "1/1 [==============================] - 0s 2ms/step - loss: 4.3002e-04\n",
      "Epoch 43/1000\n",
      "1/1 [==============================] - 0s 2ms/step - loss: 4.2689e-04\n",
      "Epoch 44/1000\n",
      "1/1 [==============================] - 0s 2ms/step - loss: 4.2378e-04\n",
      "Epoch 45/1000\n",
      "1/1 [==============================] - 0s 2ms/step - loss: 4.2069e-04\n",
      "Epoch 46/1000\n",
      "1/1 [==============================] - 0s 2ms/step - loss: 4.1762e-04\n",
      "Epoch 47/1000\n",
      "1/1 [==============================] - 0s 2ms/step - loss: 4.1458e-04\n",
      "Epoch 48/1000\n",
      "1/1 [==============================] - 0s 1ms/step - loss: 4.1156e-04\n",
      "Epoch 49/1000\n",
      "1/1 [==============================] - 0s 2ms/step - loss: 4.0856e-04\n",
      "Epoch 50/1000\n",
      "1/1 [==============================] - 0s 1ms/step - loss: 4.0559e-04\n",
      "Epoch 51/1000\n",
      "1/1 [==============================] - 0s 1ms/step - loss: 4.0263e-04\n",
      "Epoch 52/1000\n",
      "1/1 [==============================] - 0s 2ms/step - loss: 3.9970e-04\n",
      "Epoch 53/1000\n",
      "1/1 [==============================] - 0s 2ms/step - loss: 3.9679e-04\n",
      "Epoch 54/1000\n",
      "1/1 [==============================] - 0s 2ms/step - loss: 3.9390e-04\n",
      "Epoch 55/1000\n",
      "1/1 [==============================] - 0s 2ms/step - loss: 3.9103e-04\n",
      "Epoch 56/1000\n",
      "1/1 [==============================] - 0s 2ms/step - loss: 3.8818e-04\n",
      "Epoch 57/1000\n",
      "1/1 [==============================] - 0s 1ms/step - loss: 3.8535e-04\n",
      "Epoch 58/1000\n",
      "1/1 [==============================] - 0s 2ms/step - loss: 3.8254e-04\n",
      "Epoch 59/1000\n",
      "1/1 [==============================] - 0s 1ms/step - loss: 3.7975e-04\n",
      "Epoch 60/1000\n",
      "1/1 [==============================] - 0s 2ms/step - loss: 3.7699e-04\n",
      "Epoch 61/1000\n",
      "1/1 [==============================] - 0s 1ms/step - loss: 3.7424e-04\n",
      "Epoch 62/1000\n",
      "1/1 [==============================] - 0s 1ms/step - loss: 3.7151e-04\n",
      "Epoch 63/1000\n",
      "1/1 [==============================] - 0s 2ms/step - loss: 3.6881e-04\n",
      "Epoch 64/1000\n",
      "1/1 [==============================] - 0s 1ms/step - loss: 3.6612e-04\n",
      "Epoch 65/1000\n",
      "1/1 [==============================] - 0s 2ms/step - loss: 3.6345e-04\n",
      "Epoch 66/1000\n",
      "1/1 [==============================] - 0s 2ms/step - loss: 3.6080e-04\n",
      "Epoch 67/1000\n",
      "1/1 [==============================] - 0s 2ms/step - loss: 3.5818e-04\n",
      "Epoch 68/1000\n",
      "1/1 [==============================] - 0s 1ms/step - loss: 3.5557e-04\n",
      "Epoch 69/1000\n",
      "1/1 [==============================] - 0s 1ms/step - loss: 3.5298e-04\n",
      "Epoch 70/1000\n",
      "1/1 [==============================] - 0s 1ms/step - loss: 3.5040e-04\n",
      "Epoch 71/1000\n",
      "1/1 [==============================] - 0s 1ms/step - loss: 3.4785e-04\n",
      "Epoch 72/1000\n",
      "1/1 [==============================] - 0s 2ms/step - loss: 3.4532e-04\n",
      "Epoch 73/1000\n",
      "1/1 [==============================] - 0s 2ms/step - loss: 3.4280e-04\n",
      "Epoch 74/1000\n",
      "1/1 [==============================] - 0s 1ms/step - loss: 3.4031e-04\n",
      "Epoch 75/1000\n",
      "1/1 [==============================] - 0s 2ms/step - loss: 3.3783e-04\n",
      "Epoch 76/1000\n",
      "1/1 [==============================] - 0s 2ms/step - loss: 3.3536e-04\n",
      "Epoch 77/1000\n",
      "1/1 [==============================] - 0s 1ms/step - loss: 3.3292e-04\n",
      "Epoch 78/1000\n",
      "1/1 [==============================] - 0s 1ms/step - loss: 3.3049e-04\n",
      "Epoch 79/1000\n",
      "1/1 [==============================] - 0s 1ms/step - loss: 3.2809e-04\n",
      "Epoch 80/1000\n",
      "1/1 [==============================] - 0s 2ms/step - loss: 3.2570e-04\n",
      "Epoch 81/1000\n",
      "1/1 [==============================] - 0s 1ms/step - loss: 3.2332e-04\n",
      "Epoch 82/1000\n",
      "1/1 [==============================] - 0s 1ms/step - loss: 3.2097e-04\n",
      "Epoch 83/1000\n",
      "1/1 [==============================] - 0s 2ms/step - loss: 3.1863e-04\n",
      "Epoch 84/1000\n",
      "1/1 [==============================] - 0s 2ms/step - loss: 3.1631e-04\n",
      "Epoch 85/1000\n",
      "1/1 [==============================] - 0s 1ms/step - loss: 3.1400e-04\n",
      "Epoch 86/1000\n",
      "1/1 [==============================] - 0s 2ms/step - loss: 3.1172e-04\n",
      "Epoch 87/1000\n",
      "1/1 [==============================] - 0s 2ms/step - loss: 3.0945e-04\n",
      "Epoch 88/1000\n",
      "1/1 [==============================] - 0s 2ms/step - loss: 3.0719e-04\n",
      "Epoch 89/1000\n",
      "1/1 [==============================] - 0s 2ms/step - loss: 3.0495e-04\n",
      "Epoch 90/1000\n",
      "1/1 [==============================] - 0s 1ms/step - loss: 3.0273e-04\n",
      "Epoch 91/1000\n",
      "1/1 [==============================] - 0s 1ms/step - loss: 3.0052e-04\n",
      "Epoch 92/1000\n",
      "1/1 [==============================] - 0s 2ms/step - loss: 2.9834e-04\n",
      "Epoch 93/1000\n",
      "1/1 [==============================] - 0s 2ms/step - loss: 2.9616e-04\n",
      "Epoch 94/1000\n",
      "1/1 [==============================] - 0s 1ms/step - loss: 2.9400e-04\n",
      "Epoch 95/1000\n",
      "1/1 [==============================] - 0s 1ms/step - loss: 2.9186e-04\n",
      "Epoch 96/1000\n",
      "1/1 [==============================] - 0s 2ms/step - loss: 2.8974e-04\n",
      "Epoch 97/1000\n",
      "1/1 [==============================] - 0s 2ms/step - loss: 2.8763e-04\n",
      "Epoch 98/1000\n",
      "1/1 [==============================] - 0s 9ms/step - loss: 2.8553e-04\n",
      "Epoch 99/1000\n"
     ]
    },
    {
     "name": "stdout",
     "output_type": "stream",
     "text": [
      "1/1 [==============================] - 0s 1ms/step - loss: 2.8345e-04\n",
      "Epoch 100/1000\n",
      "1/1 [==============================] - 0s 2ms/step - loss: 2.8138e-04\n",
      "Epoch 101/1000\n",
      "1/1 [==============================] - 0s 2ms/step - loss: 2.7933e-04\n",
      "Epoch 102/1000\n",
      "1/1 [==============================] - 0s 2ms/step - loss: 2.7730e-04\n",
      "Epoch 103/1000\n",
      "1/1 [==============================] - 0s 2ms/step - loss: 2.7528e-04\n",
      "Epoch 104/1000\n",
      "1/1 [==============================] - 0s 1ms/step - loss: 2.7327e-04\n",
      "Epoch 105/1000\n",
      "1/1 [==============================] - 0s 2ms/step - loss: 2.7128e-04\n",
      "Epoch 106/1000\n",
      "1/1 [==============================] - 0s 2ms/step - loss: 2.6931e-04\n",
      "Epoch 107/1000\n",
      "1/1 [==============================] - 0s 2ms/step - loss: 2.6734e-04\n",
      "Epoch 108/1000\n",
      "1/1 [==============================] - 0s 2ms/step - loss: 2.6540e-04\n",
      "Epoch 109/1000\n",
      "1/1 [==============================] - 0s 1ms/step - loss: 2.6346e-04\n",
      "Epoch 110/1000\n",
      "1/1 [==============================] - 0s 2ms/step - loss: 2.6154e-04\n",
      "Epoch 111/1000\n",
      "1/1 [==============================] - 0s 1ms/step - loss: 2.5964e-04\n",
      "Epoch 112/1000\n",
      "1/1 [==============================] - 0s 2ms/step - loss: 2.5774e-04\n",
      "Epoch 113/1000\n",
      "1/1 [==============================] - 0s 1ms/step - loss: 2.5587e-04\n",
      "Epoch 114/1000\n",
      "1/1 [==============================] - 0s 2ms/step - loss: 2.5400e-04\n",
      "Epoch 115/1000\n",
      "1/1 [==============================] - 0s 2ms/step - loss: 2.5215e-04\n",
      "Epoch 116/1000\n",
      "1/1 [==============================] - 0s 2ms/step - loss: 2.5032e-04\n",
      "Epoch 117/1000\n",
      "1/1 [==============================] - 0s 1ms/step - loss: 2.4849e-04\n",
      "Epoch 118/1000\n",
      "1/1 [==============================] - 0s 2ms/step - loss: 2.4668e-04\n",
      "Epoch 119/1000\n",
      "1/1 [==============================] - 0s 1ms/step - loss: 2.4488e-04\n",
      "Epoch 120/1000\n",
      "1/1 [==============================] - 0s 1ms/step - loss: 2.4310e-04\n",
      "Epoch 121/1000\n",
      "1/1 [==============================] - 0s 2ms/step - loss: 2.4133e-04\n",
      "Epoch 122/1000\n",
      "1/1 [==============================] - 0s 2ms/step - loss: 2.3957e-04\n",
      "Epoch 123/1000\n",
      "1/1 [==============================] - 0s 2ms/step - loss: 2.3782e-04\n",
      "Epoch 124/1000\n",
      "1/1 [==============================] - 0s 2ms/step - loss: 2.3609e-04\n",
      "Epoch 125/1000\n",
      "1/1 [==============================] - 0s 2ms/step - loss: 2.3437e-04\n"
     ]
    }
   ],
   "source": [
    "# grader-required-cell\n",
    "\n",
    "# Get your trained model\n",
    "model = house_model()"
   ]
  },
  {
   "cell_type": "markdown",
   "metadata": {},
   "source": [
    "Now that your model has finished training it is time to test it out! You can do so by running the next cell."
   ]
  },
  {
   "cell_type": "code",
   "execution_count": 5,
   "metadata": {
    "deletable": false,
    "editable": false,
    "id": "kMlInDdSBqGK",
    "tags": [
     "graded"
    ]
   },
   "outputs": [
    {
     "ename": "NameError",
     "evalue": "name 'model' is not defined",
     "output_type": "error",
     "traceback": [
      "\u001b[0;31m---------------------------------------------------------------------------\u001b[0m",
      "\u001b[0;31mNameError\u001b[0m                                 Traceback (most recent call last)",
      "\u001b[0;32m<ipython-input-5-8189f42740fb>\u001b[0m in \u001b[0;36m<module>\u001b[0;34m\u001b[0m\n\u001b[1;32m      2\u001b[0m \u001b[0;34m\u001b[0m\u001b[0m\n\u001b[1;32m      3\u001b[0m \u001b[0mnew_x\u001b[0m \u001b[0;34m=\u001b[0m \u001b[0;36m7.0\u001b[0m\u001b[0;34m\u001b[0m\u001b[0;34m\u001b[0m\u001b[0m\n\u001b[0;32m----> 4\u001b[0;31m \u001b[0mprediction\u001b[0m \u001b[0;34m=\u001b[0m \u001b[0mmodel\u001b[0m\u001b[0;34m.\u001b[0m\u001b[0mpredict\u001b[0m\u001b[0;34m(\u001b[0m\u001b[0;34m[\u001b[0m\u001b[0mnew_x\u001b[0m\u001b[0;34m]\u001b[0m\u001b[0;34m)\u001b[0m\u001b[0;34m[\u001b[0m\u001b[0;36m0\u001b[0m\u001b[0;34m]\u001b[0m\u001b[0;34m\u001b[0m\u001b[0;34m\u001b[0m\u001b[0m\n\u001b[0m\u001b[1;32m      5\u001b[0m \u001b[0mprint\u001b[0m\u001b[0;34m(\u001b[0m\u001b[0mprediction\u001b[0m\u001b[0;34m)\u001b[0m\u001b[0;34m\u001b[0m\u001b[0;34m\u001b[0m\u001b[0m\n",
      "\u001b[0;31mNameError\u001b[0m: name 'model' is not defined"
     ]
    }
   ],
   "source": [
    "# grader-required-cell\n",
    "\n",
    "new_x = 7.0\n",
    "prediction = model.predict([new_x])[0]\n",
    "print(prediction)"
   ]
  },
  {
   "cell_type": "markdown",
   "metadata": {},
   "source": [
    "If everything went as expected you should see a prediction value very close to 4. **If not, try adjusting your code before submitting the assignment.** Notice that you can play around with the value of `new_x` to get different predictions. In general you should see that the network was able to learn the linear relationship between `x` and `y`, so if you use a value of 8.0 you should get a prediction close to 4.5 and so on."
   ]
  },
  {
   "cell_type": "markdown",
   "metadata": {},
   "source": [
    "**Congratulations on finishing this week's assignment!**\n",
    "\n",
    "You have successfully coded a neural network that learned the linear relationship between two variables. Nice job!\n",
    "\n",
    "**Keep it up!**"
   ]
  },
  {
   "cell_type": "markdown",
   "metadata": {},
   "source": [
    "<details>\n",
    "  <summary><font size=\"2\" color=\"darkgreen\"><b>Please click here if you want to experiment with any of the non-graded code.</b></font></summary>\n",
    "    <p><i><b>Important Note: Please only do this when you've already passed the assignment to avoid problems with the autograder.</b></i>\n",
    "    <ol>\n",
    "        <li> On the notebook’s menu, click “View” > “Cell Toolbar” > “Edit Metadata”</li>\n",
    "        <li> Hit the “Edit Metadata” button next to the code cell which you want to lock/unlock</li>\n",
    "        <li> Set the attribute value for “editable” to:\n",
    "            <ul>\n",
    "                <li> “true” if you want to unlock it </li>\n",
    "                <li> “false” if you want to lock it </li>\n",
    "            </ul>\n",
    "        </li>\n",
    "        <li> On the notebook’s menu, click “View” > “Cell Toolbar” > “None” </li>\n",
    "    </ol>\n",
    "    <p> Here's a short demo of how to do the steps above: \n",
    "        <br>\n",
    "        <img src=\"https://drive.google.com/uc?export=view&id=14Xy_Mb17CZVgzVAgq7NCjMVBvSae3xO1\" align=\"center\">\n",
    "</details>"
   ]
  }
 ],
 "metadata": {
  "kernelspec": {
   "display_name": "Python 3",
   "language": "python",
   "name": "python3"
  },
  "language_info": {
   "codemirror_mode": {
    "name": "ipython",
    "version": 3
   },
   "file_extension": ".py",
   "mimetype": "text/x-python",
   "name": "python",
   "nbconvert_exporter": "python",
   "pygments_lexer": "ipython3",
   "version": "3.8.8"
  }
 },
 "nbformat": 4,
 "nbformat_minor": 4
}
